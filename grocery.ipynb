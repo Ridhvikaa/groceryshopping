{
  "nbformat": 4,
  "nbformat_minor": 0,
  "metadata": {
    "colab": {
      "name": "grocery.ipynb",
      "provenance": [],
      "collapsed_sections": [],
      "authorship_tag": "ABX9TyMD0OYxqTQHDb94DoUy6NW2",
      "include_colab_link": true
    },
    "kernelspec": {
      "name": "python3",
      "display_name": "Python 3"
    },
    "language_info": {
      "name": "python"
    }
  },
  "cells": [
    {
      "cell_type": "markdown",
      "metadata": {
        "id": "view-in-github",
        "colab_type": "text"
      },
      "source": [
        "<a href=\"https://colab.research.google.com/github/Ridhvikaa/groceryshopping/blob/main/grocery.ipynb\" target=\"_parent\"><img src=\"https://colab.research.google.com/assets/colab-badge.svg\" alt=\"Open In Colab\"/></a>"
      ]
    },
    {
      "cell_type": "code",
      "metadata": {
        "id": "7j5N3iOxl80a"
      },
      "source": [
        "import pandas as pd\n",
        "import json"
      ],
      "execution_count": 2,
      "outputs": []
    },
    {
      "cell_type": "code",
      "metadata": {
        "id": "Xu7cpBJwpZZv"
      },
      "source": [
        "fd=open(\"record.json\",'r')\n",
        "r=fd.read()\n",
        "fd.close()\n",
        "record=json.loads(r)"
      ],
      "execution_count": 3,
      "outputs": []
    },
    {
      "cell_type": "code",
      "metadata": {
        "colab": {
          "base_uri": "https://localhost:8080/"
        },
        "id": "V2-8zLawqEuW",
        "outputId": "2fb34886-f286-417d-a5cb-636af2c8d88e"
      },
      "source": [
        "record"
      ],
      "execution_count": 4,
      "outputs": [
        {
          "output_type": "execute_result",
          "data": {
            "text/plain": [
              "{'1001': {'name': 'sugar', 'pr': 100, 'qn': 34},\n",
              " '1002': {'name': 'teapowder', 'pr': 800, 'qn': 100},\n",
              " '1003': {'name': 'Dal', 'pr': 85, 'qn': 100},\n",
              " '1004': {'name': 'Moog', 'pr': 5, 'qn': 1000},\n",
              " '1005': {'name': 'wheat', 'pr': 20, 'qn': 100},\n",
              " '1006': {'name': 'paddy', 'pr': 50000, 'qn': 10},\n",
              " '1007': {'name': 'Jowar', 'pr': 1500, 'qn': 110},\n",
              " '1008': {'name': 'Agarbatti', 'pr': 599, 'qn': 5},\n",
              " '1009': {'name': 'rin soap', 'pr': 18, 'qn': 10},\n",
              " '1010': {'name': 'powder', 'pr': 133, 'qn': 9},\n",
              " '1011': {'name': 'pickle', 'pr': 189, 'qn': 7},\n",
              " '1012': {'name': 'brush', 'pr': 139, 'qn': 22},\n",
              " '1013': {'name': 'Flour', 'pr': 1923, 'qn': 120},\n",
              " '1014': {'name': 'Santoor soap', 'pr': 18, 'qn': 110},\n",
              " '1015': {'name': 'Lux soap', 'pr': 169, 'qn': 130},\n",
              " '1016': {'name': 'Neem soap', 'pr': 189, 'qn': 120},\n",
              " '1017': {'name': 'Green dal soap', 'pr': 199, 'qn': 1},\n",
              " '1018': {'name': 'Chilli powder', 'pr': 10, 'qn': 1},\n",
              " '1019': {'name': 'Lays', 'pr': 88, 'qn': 8},\n",
              " '1020': {'name': 'Kukure', 'pr': 889, 'qn': 90},\n",
              " '1021': {'name': 'Chik shampoo', 'pr': 1799, 'qn': 99},\n",
              " '1022': {'name': 'Dove shampoo', 'pr': 1679, 'qn': 10},\n",
              " '1023': {'name': 'Lemon rice powder', 'pr': 1779, 'qn': 9},\n",
              " '1024': {'name': 'Sunsilk', 'pr': 1999, 'qn': 33},\n",
              " '1025': {'name': 'cashew nut', 'pr': 134, 'qn': 5},\n",
              " '1026': {'name': 'badam', 'pr': 132, 'qn': 3},\n",
              " '1027': {'name': 'Pista', 'pr': 134, 'qn': 9},\n",
              " '1028': {'name': 'Pasta', 'pr': 198, 'qn': 3},\n",
              " '1029': {'name': 'soft drinks', 'pr': 197, 'qn': 3},\n",
              " '1030': {'name': 'Chocolate pack', 'pr': 199, 'qn': 1},\n",
              " '1032': {'name': '5-star', 'pr': 5, 'qn': 10}}"
            ]
          },
          "metadata": {},
          "execution_count": 4
        }
      ]
    },
    {
      "cell_type": "code",
      "metadata": {
        "colab": {
          "base_uri": "https://localhost:8080/"
        },
        "id": "E4b-N3DSqIOw",
        "outputId": "4b6cb2b7-d453-47d3-8bef-2e6b07450bdd"
      },
      "source": [
        "prod_id = str(input(\"Enter product id:\"))\n",
        "name = str(input(\"Enter name:\"))\n",
        "pr = int(input(\"Enter price:\"))\n",
        "qn = int(input(\"Enter quantity:\"))\n",
        "\n",
        "record[prod_id] = {'name': name, 'pr': pr, 'qn': qn}\n",
        "\n",
        "js = json.dumps(record)\n",
        "\n",
        "fd = open(\"record.json\",'w')\n",
        "fd.write(js)\n",
        "fd.close()"
      ],
      "execution_count": 5,
      "outputs": [
        {
          "name": "stdout",
          "output_type": "stream",
          "text": [
            "Enter product id:1033\n",
            "Enter name:snickers\n",
            "Enter price:25\n",
            "Enter quantity:6\n"
          ]
        }
      ]
    },
    {
      "cell_type": "code",
      "metadata": {
        "colab": {
          "base_uri": "https://localhost:8080/"
        },
        "id": "8alCAAqqqP8J",
        "outputId": "52828207-964d-4410-f236-676618d2bcd3"
      },
      "source": [
        "record"
      ],
      "execution_count": 6,
      "outputs": [
        {
          "output_type": "execute_result",
          "data": {
            "text/plain": [
              "{'1001': {'name': 'sugar', 'pr': 100, 'qn': 34},\n",
              " '1002': {'name': 'teapowder', 'pr': 800, 'qn': 100},\n",
              " '1003': {'name': 'Dal', 'pr': 85, 'qn': 100},\n",
              " '1004': {'name': 'Moog', 'pr': 5, 'qn': 1000},\n",
              " '1005': {'name': 'wheat', 'pr': 20, 'qn': 100},\n",
              " '1006': {'name': 'paddy', 'pr': 50000, 'qn': 10},\n",
              " '1007': {'name': 'Jowar', 'pr': 1500, 'qn': 110},\n",
              " '1008': {'name': 'Agarbatti', 'pr': 599, 'qn': 5},\n",
              " '1009': {'name': 'rin soap', 'pr': 18, 'qn': 10},\n",
              " '1010': {'name': 'powder', 'pr': 133, 'qn': 9},\n",
              " '1011': {'name': 'pickle', 'pr': 189, 'qn': 7},\n",
              " '1012': {'name': 'brush', 'pr': 139, 'qn': 22},\n",
              " '1013': {'name': 'Flour', 'pr': 1923, 'qn': 120},\n",
              " '1014': {'name': 'Santoor soap', 'pr': 18, 'qn': 110},\n",
              " '1015': {'name': 'Lux soap', 'pr': 169, 'qn': 130},\n",
              " '1016': {'name': 'Neem soap', 'pr': 189, 'qn': 120},\n",
              " '1017': {'name': 'Green dal soap', 'pr': 199, 'qn': 1},\n",
              " '1018': {'name': 'Chilli powder', 'pr': 10, 'qn': 1},\n",
              " '1019': {'name': 'Lays', 'pr': 88, 'qn': 8},\n",
              " '1020': {'name': 'Kukure', 'pr': 889, 'qn': 90},\n",
              " '1021': {'name': 'Chik shampoo', 'pr': 1799, 'qn': 99},\n",
              " '1022': {'name': 'Dove shampoo', 'pr': 1679, 'qn': 10},\n",
              " '1023': {'name': 'Lemon rice powder', 'pr': 1779, 'qn': 9},\n",
              " '1024': {'name': 'Sunsilk', 'pr': 1999, 'qn': 33},\n",
              " '1025': {'name': 'cashew nut', 'pr': 134, 'qn': 5},\n",
              " '1026': {'name': 'badam', 'pr': 132, 'qn': 3},\n",
              " '1027': {'name': 'Pista', 'pr': 134, 'qn': 9},\n",
              " '1028': {'name': 'Pasta', 'pr': 198, 'qn': 3},\n",
              " '1029': {'name': 'soft drinks', 'pr': 197, 'qn': 3},\n",
              " '1030': {'name': 'Chocolate pack', 'pr': 199, 'qn': 1},\n",
              " '1032': {'name': '5-star', 'pr': 5, 'qn': 10},\n",
              " '1033': {'name': 'snickers', 'pr': 25, 'qn': 6}}"
            ]
          },
          "metadata": {},
          "execution_count": 6
        }
      ]
    },
    {
      "cell_type": "code",
      "metadata": {
        "colab": {
          "base_uri": "https://localhost:8080/"
        },
        "id": "-_kzsfRnqXao",
        "outputId": "747a4c97-def8-4031-c34b-eb5e6115526f"
      },
      "source": [
        "n=input(\"enter what you want to delete\")\n",
        "del record[n]"
      ],
      "execution_count": 7,
      "outputs": [
        {
          "name": "stdout",
          "output_type": "stream",
          "text": [
            "enter what you want to delete1033\n"
          ]
        }
      ]
    },
    {
      "cell_type": "code",
      "metadata": {
        "colab": {
          "base_uri": "https://localhost:8080/"
        },
        "id": "c1XMTng0qeuU",
        "outputId": "b5221010-9cc4-435a-c493-0f1c6aab538e"
      },
      "source": [
        "record"
      ],
      "execution_count": 8,
      "outputs": [
        {
          "output_type": "execute_result",
          "data": {
            "text/plain": [
              "{'1001': {'name': 'sugar', 'pr': 100, 'qn': 34},\n",
              " '1002': {'name': 'teapowder', 'pr': 800, 'qn': 100},\n",
              " '1003': {'name': 'Dal', 'pr': 85, 'qn': 100},\n",
              " '1004': {'name': 'Moog', 'pr': 5, 'qn': 1000},\n",
              " '1005': {'name': 'wheat', 'pr': 20, 'qn': 100},\n",
              " '1006': {'name': 'paddy', 'pr': 50000, 'qn': 10},\n",
              " '1007': {'name': 'Jowar', 'pr': 1500, 'qn': 110},\n",
              " '1008': {'name': 'Agarbatti', 'pr': 599, 'qn': 5},\n",
              " '1009': {'name': 'rin soap', 'pr': 18, 'qn': 10},\n",
              " '1010': {'name': 'powder', 'pr': 133, 'qn': 9},\n",
              " '1011': {'name': 'pickle', 'pr': 189, 'qn': 7},\n",
              " '1012': {'name': 'brush', 'pr': 139, 'qn': 22},\n",
              " '1013': {'name': 'Flour', 'pr': 1923, 'qn': 120},\n",
              " '1014': {'name': 'Santoor soap', 'pr': 18, 'qn': 110},\n",
              " '1015': {'name': 'Lux soap', 'pr': 169, 'qn': 130},\n",
              " '1016': {'name': 'Neem soap', 'pr': 189, 'qn': 120},\n",
              " '1017': {'name': 'Green dal soap', 'pr': 199, 'qn': 1},\n",
              " '1018': {'name': 'Chilli powder', 'pr': 10, 'qn': 1},\n",
              " '1019': {'name': 'Lays', 'pr': 88, 'qn': 8},\n",
              " '1020': {'name': 'Kukure', 'pr': 889, 'qn': 90},\n",
              " '1021': {'name': 'Chik shampoo', 'pr': 1799, 'qn': 99},\n",
              " '1022': {'name': 'Dove shampoo', 'pr': 1679, 'qn': 10},\n",
              " '1023': {'name': 'Lemon rice powder', 'pr': 1779, 'qn': 9},\n",
              " '1024': {'name': 'Sunsilk', 'pr': 1999, 'qn': 33},\n",
              " '1025': {'name': 'cashew nut', 'pr': 134, 'qn': 5},\n",
              " '1026': {'name': 'badam', 'pr': 132, 'qn': 3},\n",
              " '1027': {'name': 'Pista', 'pr': 134, 'qn': 9},\n",
              " '1028': {'name': 'Pasta', 'pr': 198, 'qn': 3},\n",
              " '1029': {'name': 'soft drinks', 'pr': 197, 'qn': 3},\n",
              " '1030': {'name': 'Chocolate pack', 'pr': 199, 'qn': 1},\n",
              " '1032': {'name': '5-star', 'pr': 5, 'qn': 10}}"
            ]
          },
          "metadata": {},
          "execution_count": 8
        }
      ]
    },
    {
      "cell_type": "code",
      "metadata": {
        "colab": {
          "base_uri": "https://localhost:8080/"
        },
        "id": "AGecXvT7qhqT",
        "outputId": "be20343d-cff1-45b1-95b9-97853cdbc391"
      },
      "source": [
        "#purchase\n",
        "ui_prod=str(input(\"enter product id\"))\n",
        "ui_quant=int(input(\"enter the quantity\"))\n",
        "print(\"Product\",record[ui_prod]['name'])\n",
        "print(\"Price:\", record[ui_prod]['pr'])\n",
        "print(\"Billing Amount: \", record[ui_prod]['pr']*ui_quant)\n",
        "record[ui_prod]['qn']= record[ui_prod]['qn'] - ui_quant"
      ],
      "execution_count": 9,
      "outputs": [
        {
          "output_type": "stream",
          "name": "stdout",
          "text": [
            "enter product id1032\n",
            "enter the quantity2\n",
            "Product 5-star\n",
            "Price: 5\n",
            "Billing Amount:  10\n"
          ]
        }
      ]
    },
    {
      "cell_type": "code",
      "metadata": {
        "id": "uhYjLNFCtyaH"
      },
      "source": [
        "record[ui_prod]['qn'] = record[ui_prod]['qn'] - ui_quant"
      ],
      "execution_count": 10,
      "outputs": []
    },
    {
      "cell_type": "code",
      "metadata": {
        "colab": {
          "base_uri": "https://localhost:8080/"
        },
        "id": "Ca5KbTquuc3O",
        "outputId": "59d0e84d-91e6-41cb-d2e1-762cefd7a004"
      },
      "source": [
        "record"
      ],
      "execution_count": 11,
      "outputs": [
        {
          "output_type": "execute_result",
          "data": {
            "text/plain": [
              "{'1001': {'name': 'sugar', 'pr': 100, 'qn': 34},\n",
              " '1002': {'name': 'teapowder', 'pr': 800, 'qn': 100},\n",
              " '1003': {'name': 'Dal', 'pr': 85, 'qn': 100},\n",
              " '1004': {'name': 'Moog', 'pr': 5, 'qn': 1000},\n",
              " '1005': {'name': 'wheat', 'pr': 20, 'qn': 100},\n",
              " '1006': {'name': 'paddy', 'pr': 50000, 'qn': 10},\n",
              " '1007': {'name': 'Jowar', 'pr': 1500, 'qn': 110},\n",
              " '1008': {'name': 'Agarbatti', 'pr': 599, 'qn': 5},\n",
              " '1009': {'name': 'rin soap', 'pr': 18, 'qn': 10},\n",
              " '1010': {'name': 'powder', 'pr': 133, 'qn': 9},\n",
              " '1011': {'name': 'pickle', 'pr': 189, 'qn': 7},\n",
              " '1012': {'name': 'brush', 'pr': 139, 'qn': 22},\n",
              " '1013': {'name': 'Flour', 'pr': 1923, 'qn': 120},\n",
              " '1014': {'name': 'Santoor soap', 'pr': 18, 'qn': 110},\n",
              " '1015': {'name': 'Lux soap', 'pr': 169, 'qn': 130},\n",
              " '1016': {'name': 'Neem soap', 'pr': 189, 'qn': 120},\n",
              " '1017': {'name': 'Green dal soap', 'pr': 199, 'qn': 1},\n",
              " '1018': {'name': 'Chilli powder', 'pr': 10, 'qn': 1},\n",
              " '1019': {'name': 'Lays', 'pr': 88, 'qn': 8},\n",
              " '1020': {'name': 'Kukure', 'pr': 889, 'qn': 90},\n",
              " '1021': {'name': 'Chik shampoo', 'pr': 1799, 'qn': 99},\n",
              " '1022': {'name': 'Dove shampoo', 'pr': 1679, 'qn': 10},\n",
              " '1023': {'name': 'Lemon rice powder', 'pr': 1779, 'qn': 9},\n",
              " '1024': {'name': 'Sunsilk', 'pr': 1999, 'qn': 33},\n",
              " '1025': {'name': 'cashew nut', 'pr': 134, 'qn': 5},\n",
              " '1026': {'name': 'badam', 'pr': 132, 'qn': 3},\n",
              " '1027': {'name': 'Pista', 'pr': 134, 'qn': 9},\n",
              " '1028': {'name': 'Pasta', 'pr': 198, 'qn': 3},\n",
              " '1029': {'name': 'soft drinks', 'pr': 197, 'qn': 3},\n",
              " '1030': {'name': 'Chocolate pack', 'pr': 199, 'qn': 1},\n",
              " '1032': {'name': '5-star', 'pr': 5, 'qn': 6}}"
            ]
          },
          "metadata": {},
          "execution_count": 11
        }
      ]
    },
    {
      "cell_type": "code",
      "metadata": {
        "id": "lXsG-4_TufDO"
      },
      "source": [
        "#update inventory after purchase"
      ],
      "execution_count": null,
      "outputs": []
    },
    {
      "cell_type": "code",
      "metadata": {
        "colab": {
          "base_uri": "https://localhost:8080/"
        },
        "id": "vWKOgtE6upn1",
        "outputId": "9c594297-4812-48e3-9edf-8e09b8ab204f"
      },
      "source": [
        "js= json.dumps(record)\n",
        "fd= open(\"record.json\",'w')\n",
        "fd.write(js)\n",
        "fd.close"
      ],
      "execution_count": 12,
      "outputs": [
        {
          "output_type": "execute_result",
          "data": {
            "text/plain": [
              "<function TextIOWrapper.close>"
            ]
          },
          "metadata": {},
          "execution_count": 12
        }
      ]
    },
    {
      "cell_type": "code",
      "metadata": {
        "colab": {
          "base_uri": "https://localhost:8080/"
        },
        "id": "MLS_1PSau4n6",
        "outputId": "0b172eca-b0b7-406c-e091-aeed7dba7590"
      },
      "source": [
        "{'prod':ui_prod, 'qn':ui_quant,'amount':record[ui_prod]['pr']*ui_quant}"
      ],
      "execution_count": 13,
      "outputs": [
        {
          "output_type": "execute_result",
          "data": {
            "text/plain": [
              "{'amount': 10, 'prod': '1032', 'qn': 2}"
            ]
          },
          "metadata": {},
          "execution_count": 13
        }
      ]
    },
    {
      "cell_type": "code",
      "metadata": {
        "id": "9BxIZ7OivPXT"
      },
      "source": [
        "sales={1:{'prod':ui_prod,'qn': ui_quant, 'amount':record[ui_prod]['pr']*ui_quant},\n",
        "       2:{'prod':ui_prod, 'qn': ui_quant, 'amount':record[ui_prod]['pr']*ui_quant},\n",
        "       3:{'prod':ui_prod, 'qn': ui_quant, 'amount':record[ui_prod]['pr']*ui_quant}}"
      ],
      "execution_count": 14,
      "outputs": []
    },
    {
      "cell_type": "code",
      "metadata": {
        "id": "UD6mYnIBv6dQ"
      },
      "source": [
        "sale=json.dumps(sales)"
      ],
      "execution_count": 17,
      "outputs": []
    },
    {
      "cell_type": "code",
      "metadata": {
        "id": "laL4UqXuwO7M"
      },
      "source": [
        ""
      ],
      "execution_count": 17,
      "outputs": []
    },
    {
      "cell_type": "code",
      "metadata": {
        "colab": {
          "base_uri": "https://localhost:8080/"
        },
        "id": "LKqgM4FUwWde",
        "outputId": "3727f789-5572-49d5-842b-0131a029858e"
      },
      "source": [
        "{(len(sales)+1):{'prod':ui_prod,'qn': ui_quant, 'amount':record[ui_prod]['pr']*ui_quant}}"
      ],
      "execution_count": 18,
      "outputs": [
        {
          "output_type": "execute_result",
          "data": {
            "text/plain": [
              "{4: {'amount': 10, 'prod': '1032', 'qn': 2}}"
            ]
          },
          "metadata": {},
          "execution_count": 18
        }
      ]
    },
    {
      "cell_type": "code",
      "metadata": {
        "colab": {
          "base_uri": "https://localhost:8080/"
        },
        "id": "uQwZ7l7gwfIe",
        "outputId": "0107fdaa-5355-4d81-f321-295f8269e687"
      },
      "source": [
        "sales"
      ],
      "execution_count": 19,
      "outputs": [
        {
          "output_type": "execute_result",
          "data": {
            "text/plain": [
              "{1: {'amount': 10, 'prod': '1032', 'qn': 2},\n",
              " 2: {'amount': 10, 'prod': '1032', 'qn': 2},\n",
              " 3: {'amount': 10, 'prod': '1032', 'qn': 2}}"
            ]
          },
          "metadata": {},
          "execution_count": 19
        }
      ]
    },
    {
      "cell_type": "code",
      "metadata": {
        "id": "LB8IHdGow-gO",
        "colab": {
          "base_uri": "https://localhost:8080/"
        },
        "outputId": "19d78155-1e8e-44e9-9bbc-d87f72ecf390"
      },
      "source": [
        "ui_prod  = str(input(\"Enter the product_Id: \"))\n",
        "ui_quant = int(input(\"Enter the quantity: \"))\n",
        "\n",
        "\n",
        "print(\"Product: \", record[ui_prod]['name'])\n",
        "print(\"Price: \", record[ui_prod]['pr'])\n",
        "print('*******************************************')\n",
        "print(\"Billing Amount: \", record[ui_prod]['pr'] * ui_quant)\n",
        "\n",
        "record[ui_prod]['qn'] = record[ui_prod]['qn'] - ui_quant"
      ],
      "execution_count": 20,
      "outputs": [
        {
          "output_type": "stream",
          "name": "stdout",
          "text": [
            "Enter the product_Id: 1001\n",
            "Enter the quantity: 2\n",
            "Product:  sugar\n",
            "Price:  100\n",
            "*******************************************\n",
            "Billing Amount:  200\n"
          ]
        }
      ]
    },
    {
      "cell_type": "code",
      "metadata": {
        "id": "rI48cUtkiagO"
      },
      "source": [
        ""
      ],
      "execution_count": null,
      "outputs": []
    }
  ]
}